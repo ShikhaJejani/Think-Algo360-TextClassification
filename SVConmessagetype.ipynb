{
 "cells": [
  {
   "cell_type": "code",
   "execution_count": 44,
   "metadata": {},
   "outputs": [
    {
     "data": {
      "text/plain": [
       "0      rs. 1,100.00 credited from a/c xxxxxxxx411996 ...\n",
       "1      an awesome personal loan offer for you!- rate ...\n",
       "2      an awesome personal loan offer for you!- rate ...\n",
       "3      dear pradeep, you are pre-qualified for variou...\n",
       "4      dear pradeep, loan request received for inr 5,...\n",
       "5      dear customer, hdfc bank personal loan loan ap...\n",
       "6      dear pradeep, we have received your payment of...\n",
       "7      rs. 2,200.00 credited from a/c xxxxxxxx411996 ...\n",
       "8      dear pradeep, please email us the missing docu...\n",
       "9      dear pradeep, get an online personal loan of u...\n",
       "10     congratulations! rs.1000/- amazon voucher is u...\n",
       "11     sbi credit card bill payment made online from ...\n",
       "12     dear pradeep, get an online personal loan of u...\n",
       "13     whetting wednesday! reapply for a cashe loan w...\n",
       "14     /u0aaa/u0acd/u0ab0/u0abf/u0aaf /u0aae/u0aa3/u0...\n",
       "15     /u0a95/u0ac7/u0aaa/u0abf/u0a9f/u0ab2 /u0aab/u0...\n",
       "16     dear customer, if you are in to any business a...\n",
       "17     you have just logged in to mobile banking app(...\n",
       "18     priy vasava vijaybhai, namra reminder ke je ta...\n",
       "19     /u0aaa/u0acd/u0ab0/u0abf/u0aaf /u0aae/u0aa3/u0...\n",
       "20     priy vasava vijaybhai, namra reminder ke je ta...\n",
       "21     /u0aaa/u0acd/u0ab0/u0abf/u0aaf /u0aae/u0aa3/u0...\n",
       "22     5% cashback/u00a1croma store! to avail, make p...\n",
       "23     smartpay request on hdfc bank credit card endi...\n",
       "24     now make your online payments using hdfc bank ...\n",
       "25     get axis asap instant zero balance bank a/c us...\n",
       "26     feast of flavours is here to pamper the foodie...\n",
       "27     your hdfc bank debit card is accepted globally...\n",
       "28     introducing axis asap instant savings a/c that...\n",
       "29     an awesome personal loan offer for you!- rate ...\n",
       "                             ...                        \n",
       "470    hello, you have initiated the process of addin...\n",
       "471    life is unpredictable and so are expenses. get...\n",
       "472    your fund transfer request for rs. 2000.00 on ...\n",
       "473    an awesome personal loan offer for you!- rate ...\n",
       "474    pay your purchase of rs.4,620 done on your kot...\n",
       "475    dear customer, as of 04/06/2018, you are rs. 6...\n",
       "476    avail up to rs. 750 cashback on upi transactio...\n",
       "477    dear customer, muthoot finance offers gold loa...\n",
       "478    transfer your existing personal loan & save bi...\n",
       "479    presenting simplyclick sbi credit card with ex...\n",
       "480    congratulations! you are eligible for an incre...\n",
       "481    get approved for a chhota loan upto 2 lac inst...\n",
       "482    already using a credit card? you are eligible ...\n",
       "483    introducing axis asap instant savings a/c that...\n",
       "484    presenting simplyclick sbi credit card with ex...\n",
       "485    worried due to unexpected expenses? fear no mo...\n",
       "486    introducing axis asap instant savings a/c that...\n",
       "487    dtcp approved layout thakkallapally@yacharam.s...\n",
       "488    dear customer, now pay for your groceries, mov...\n",
       "489    thank you for the payment of rs. 500 through p...\n",
       "490    dear customer, thank you for your application ...\n",
       "491    greetings, welcome to bajaj finserv wallet - w...\n",
       "492    achieve your freedom from medical expenses wit...\n",
       "493    dear customer, welcome to aditya birla finance...\n",
       "494    thank you for payment of rs.5489 for your emi ...\n",
       "495    mas me call karne ke liye dhanyavad. hamari au...\n",
       "496    priy hadiya jodhabhai, namra reminder ke je ta...\n",
       "497    you have promised to pay rs. 5689.00 for your ...\n",
       "498    tamara rs.5339.00 overdue che home credit loan...\n",
       "499    dear client, your loan no. 3801252385 is 9 day...\n",
       "Name: message, dtype: object"
      ]
     },
     "execution_count": 44,
     "metadata": {},
     "output_type": "execute_result"
    }
   ],
   "source": [
    "import pandas as pd\n",
    "df = pd.read_csv('C:/Algo360/My python codes/ml.csv')\n",
    "df_test=pd.read_csv('C:/Algo360/My python codes/Bankmessagetypetest.csv')\n",
    "df_test['message'].str.lower()"
   ]
  },
  {
   "cell_type": "code",
   "execution_count": 46,
   "metadata": {},
   "outputs": [],
   "source": [
    "df = df[pd.notnull(df['message'])]\n",
    "df_test = df_test[pd.notnull(df_test['message'])]\n",
    "df['message']=df['message'].str.lower()\n",
    "df_test['message']=df_test['message'].str.lower()"
   ]
  },
  {
   "cell_type": "code",
   "execution_count": 48,
   "metadata": {},
   "outputs": [
    {
     "name": "stdout",
     "output_type": "stream",
     "text": [
      "<class 'pandas.core.frame.DataFrame'>\n",
      "Int64Index: 500 entries, 0 to 499\n",
      "Data columns (total 1 columns):\n",
      "message    500 non-null object\n",
      "dtypes: object(1)\n",
      "memory usage: 7.8+ KB\n"
     ]
    }
   ],
   "source": [
    "df_test.info()"
   ]
  },
  {
   "cell_type": "code",
   "execution_count": 24,
   "metadata": {},
   "outputs": [
    {
     "data": {
      "text/plain": [
       "Index([u'message'], dtype='object')"
      ]
     },
     "execution_count": 24,
     "metadata": {},
     "output_type": "execute_result"
    }
   ],
   "source": [
    "df_test.columns"
   ]
  },
  {
   "cell_type": "code",
   "execution_count": 25,
   "metadata": {},
   "outputs": [],
   "source": [
    "df['category_id'] = df['messagetype'].factorize()[0]\n",
    "from io import StringIO\n",
    "category_id_df = df[['messagetype', 'category_id']].drop_duplicates().sort_values('category_id')\n",
    "category_to_id = dict(category_id_df.values)\n",
    "id_to_category = dict(category_id_df[['category_id', 'messagetype']].values)"
   ]
  },
  {
   "cell_type": "code",
   "execution_count": 26,
   "metadata": {},
   "outputs": [
    {
     "data": {
      "text/plain": [
       "{0L: 'Debit',\n",
       " 1L: 'Credit',\n",
       " 2L: 'Advert',\n",
       " 3L: 'Balance',\n",
       " 4L: 'Declined_due_to_insufficint_fund',\n",
       " 5L: 'Declined_due_to_other',\n",
       " 6L: 'EmiDue_Reminder',\n",
       " 7L: 'Info',\n",
       " 8L: 'OTP',\n",
       " 9L: 'Payment_due',\n",
       " 10L: 'Declined_due_to_others'}"
      ]
     },
     "execution_count": 26,
     "metadata": {},
     "output_type": "execute_result"
    }
   ],
   "source": [
    "id_to_category"
   ]
  },
  {
   "cell_type": "code",
   "execution_count": 27,
   "metadata": {},
   "outputs": [
    {
     "data": {
      "image/png": "[encoded data removed]",
      "text/plain": [
       "<Figure size 576x432 with 1 Axes>"
      ]
     },
     "metadata": {
      "needs_background": "light"
     },
     "output_type": "display_data"
    }
   ],
   "source": [
    "import matplotlib.pyplot as plt\n",
    "%matplotlib inline \n",
    "fig = plt.figure(figsize=(8,6))\n",
    "df.groupby('messagetype').message.count().plot.bar(ylim=0)\n",
    "plt.show()"
   ]
  },
  {
   "cell_type": "code",
   "execution_count": 28,
   "metadata": {},
   "outputs": [],
   "source": [
    "from sklearn.feature_extraction.text import TfidfVectorizer\n",
    "\n",
    "tfidf = TfidfVectorizer(sublinear_tf=True, min_df=5, norm='l2', encoding='latin-1', ngram_range=(1, 2), stop_words='english')\n",
    "\n",
    "features = tfidf.fit_transform(df.message).toarray()\n",
    "labels = df.category_id\n"
   ]
  },
  {
   "cell_type": "code",
   "execution_count": 29,
   "metadata": {},
   "outputs": [
    {
     "data": {
      "text/plain": [
       "(8708L, 6793L)"
      ]
     },
     "execution_count": 29,
     "metadata": {},
     "output_type": "execute_result"
    }
   ],
   "source": [
    "features.shape"
   ]
  },
  {
   "cell_type": "code",
   "execution_count": 30,
   "metadata": {},
   "outputs": [
    {
     "name": "stdout",
     "output_type": "stream",
     "text": [
      "# 'Advert':\n",
      "  . Most correlated unigrams:\n",
      "       . happy\n",
      "       . apply\n",
      "  . Most correlated bigrams:\n",
      "       . wishes happy\n",
      "       . happy birthday\n",
      "# 'Balance':\n",
      "  . Most correlated unigrams:\n",
      "       . eod\n",
      "       . ledger\n",
      "  . Most correlated bigrams:\n",
      "       . 00 dr\n",
      "       . ledger balance\n",
      "# 'Credit':\n",
      "  . Most correlated unigrams:\n",
      "       . deposit\n",
      "       . credited\n",
      "  . Most correlated bigrams:\n",
      "       . credited inr\n",
      "       . credited rs\n",
      "# 'Debit':\n",
      "  . Most correlated unigrams:\n",
      "       . otp\n",
      "       . debited\n",
      "  . Most correlated bigrams:\n",
      "       . debited inr\n",
      "       . debited rs\n",
      "# 'Declined_due_to_insufficint_fund':\n",
      "  . Most correlated unigrams:\n",
      "       . funds\n",
      "       . insufficient\n",
      "  . Most correlated bigrams:\n",
      "       . insufficient funds\n",
      "       . declined insufficient\n",
      "# 'Declined_due_to_other':\n",
      "  . Most correlated unigrams:\n",
      "       . declined\n",
      "       . incorrect\n",
      "  . Most correlated bigrams:\n",
      "       . incorrect pin\n",
      "       . declined incorrect\n",
      "# 'Declined_due_to_others':\n",
      "  . Most correlated unigrams:\n",
      "       . rejected\n",
      "       . 23000\n",
      "  . Most correlated bigrams:\n",
      "       . beneficiary ifsc\n",
      "       . rs 23000\n",
      "# 'EmiDue_Reminder':\n",
      "  . Most correlated unigrams:\n",
      "       . sufficient\n",
      "       . emi\n",
      "  . Most correlated bigrams:\n",
      "       . paid download\n",
      "       . emi rs\n",
      "# 'Info':\n",
      "  . Most correlated unigrams:\n",
      "       . logged\n",
      "       . added\n",
      "  . Most correlated bigrams:\n",
      "       . request inr\n",
      "       . bank received\n",
      "# 'OTP':\n",
      "  . Most correlated unigrams:\n",
      "       . share\n",
      "       . otp\n",
      "  . Most correlated bigrams:\n",
      "       . password otp\n",
      "       . time password\n",
      "# 'Payment_due':\n",
      "  . Most correlated unigrams:\n",
      "       . continue\n",
      "       . pyt\n",
      "  . Most correlated bigrams:\n",
      "       . pls make\n",
      "       . pls ignore\n"
     ]
    }
   ],
   "source": [
    "from sklearn.feature_selection import chi2\n",
    "import numpy as np\n",
    "\n",
    "N = 2\n",
    "for messagetype, category_id in sorted(category_to_id.items()):\n",
    "  features_chi2 = chi2(features, labels == category_id)\n",
    "  indices = np.argsort(features_chi2[0])\n",
    "  feature_names = np.array(tfidf.get_feature_names())[indices]\n",
    "  unigrams = [v for v in feature_names if len(v.split(' ')) == 1]\n",
    "  bigrams = [v for v in feature_names if len(v.split(' ')) == 2]\n",
    "  print(\"# '{}':\".format(messagetype))\n",
    "  print(\"  . Most correlated unigrams:\\n       . {}\".format('\\n       . '.join(unigrams[-N:])))\n",
    "  print(\"  . Most correlated bigrams:\\n       . {}\".format('\\n       . '.join(bigrams[-N:])))"
   ]
  },
  {
   "cell_type": "code",
   "execution_count": 31,
   "metadata": {},
   "outputs": [],
   "source": [
    "from sklearn.model_selection import train_test_split\n",
    "from sklearn.feature_extraction.text import CountVectorizer\n",
    "from sklearn.feature_extraction.text import TfidfTransformer\n",
    "from sklearn.naive_bayes import MultinomialNB\n",
    "from sklearn import metrics\n",
    "\n",
    "X_train, X_test, y_train, y_test = train_test_split(df['message'], df['messagetype'], random_state = 0)\n",
    "count_vect = CountVectorizer()\n",
    "X_train_counts = count_vect.fit_transform(X_train)\n",
    "\n",
    "tfidf_transformer = TfidfTransformer()\n",
    "X_train_tfidf = tfidf_transformer.fit_transform(X_train_counts)\n",
    "\n",
    "clf = MultinomialNB().fit(X_train_tfidf, y_train)"
   ]
  },
  {
   "cell_type": "code",
   "execution_count": 32,
   "metadata": {},
   "outputs": [],
   "source": [
    "X_test_counts = count_vect.fit_transform(df_test['message'])\n",
    "X_test_tfidf = tfidf_transformer.fit_transform(X_test_counts)\n",
    "features_test = tfidf.transform(df_test.message).toarray()"
   ]
  },
  {
   "cell_type": "code",
   "execution_count": 33,
   "metadata": {},
   "outputs": [
    {
     "data": {
      "text/plain": [
       "(500L, 6793L)"
      ]
     },
     "execution_count": 33,
     "metadata": {},
     "output_type": "execute_result"
    }
   ],
   "source": [
    "features_test.shape"
   ]
  },
  {
   "cell_type": "code",
   "execution_count": 34,
   "metadata": {},
   "outputs": [
    {
     "name": "stderr",
     "output_type": "stream",
     "text": [
      "c:\\users\\shikha~1\\desktop\\virtua~1\\algo_b~1\\lib\\site-packages\\sklearn\\model_selection\\_split.py:626: Warning: The least populated class in y has only 2 members, which is too few. The minimum number of members in any class cannot be less than n_splits=5.\n",
      "  % (min_groups, self.n_splits)), Warning)\n"
     ]
    }
   ],
   "source": [
    "from sklearn.linear_model import LogisticRegression\n",
    "from sklearn.ensemble import RandomForestClassifier\n",
    "from sklearn.naive_bayes import MultinomialNB\n",
    "from sklearn.svm import LinearSVC\n",
    "\n",
    "from sklearn.model_selection import cross_val_score\n",
    "\n",
    "\n",
    "models = [\n",
    "    RandomForestClassifier(n_estimators=200, max_depth=3, random_state=0),\n",
    "    LinearSVC(),\n",
    "    MultinomialNB(),\n",
    "    LogisticRegression(random_state=0),\n",
    "]\n",
    "CV = 5\n",
    "cv_df = pd.DataFrame(index=range(CV * len(models)))\n",
    "entries = []\n",
    "for model in models:\n",
    "  model_name = model.__class__.__name__\n",
    "  accuracies = cross_val_score(model, features, labels, scoring='accuracy', cv=CV)\n",
    "  for fold_idx, accuracy in enumerate(accuracies):\n",
    "    entries.append((model_name, fold_idx, accuracy))\n",
    "cv_df = pd.DataFrame(entries, columns=['model_name', 'fold_idx', 'accuracy'])"
   ]
  },
  {
   "cell_type": "code",
   "execution_count": 35,
   "metadata": {},
   "outputs": [
    {
     "data": {
      "image/png": "[encoded data removed]",
      "text/plain": [
       "<Figure size 432x288 with 1 Axes>"
      ]
     },
     "metadata": {
      "needs_background": "light"
     },
     "output_type": "display_data"
    }
   ],
   "source": [
    "import seaborn as sns\n",
    "\n",
    "sns.boxplot(x='model_name', y='accuracy', data=cv_df)\n",
    "sns.stripplot(x='model_name', y='accuracy', data=cv_df, \n",
    "              size=8, jitter=True, edgecolor=\"gray\", linewidth=2)\n",
    "plt.show()"
   ]
  },
  {
   "cell_type": "code",
   "execution_count": 36,
   "metadata": {},
   "outputs": [
    {
     "data": {
      "text/plain": [
       "model_name\n",
       "LinearSVC                 0.902844\n",
       "LogisticRegression        0.856350\n",
       "MultinomialNB             0.685345\n",
       "RandomForestClassifier    0.423031\n",
       "Name: accuracy, dtype: float64"
      ]
     },
     "execution_count": 36,
     "metadata": {},
     "output_type": "execute_result"
    }
   ],
   "source": [
    "\n",
    "cv_df.groupby('model_name').accuracy.mean()"
   ]
  },
  {
   "cell_type": "code",
   "execution_count": 37,
   "metadata": {},
   "outputs": [],
   "source": [
    "from sklearn.model_selection import train_test_split\n",
    "\n",
    "model = LinearSVC()\n",
    "\n",
    "X_train, X_test, y_train, y_test, indices_train, indices_test = train_test_split(features, labels, df.index, test_size=0.33, random_state=0)\n",
    "model.fit(X_train, y_train)\n",
    "y_pred = model.predict(X_test)\n"
   ]
  },
  {
   "cell_type": "code",
   "execution_count": 38,
   "metadata": {},
   "outputs": [],
   "source": [
    "Predicted = model.predict(features_test)\n",
    "score = metrics.accuracy_score(y_test, Predicted)\n",
    "print(score)\n"
   ]
  },
  {
   "cell_type": "code",
   "execution_count": 20,
   "metadata": {},
   "outputs": [],
   "source": [
    "Predicted_df = pd.DataFrame({'Column1':Predicted[:,]})\n",
    "df_test['messagetype']=Predicted_df\n",
    "Predicted_df['Column1'].value_counts()\n",
    "testfile=df_test.to_csv('C:/Algo360/My python codes/BankmessagetypetestOutput.csv',sep=',')"
   ]
  },
  {
   "cell_type": "code",
   "execution_count": 26,
   "metadata": {},
   "outputs": [
    {
     "data": {
      "image/png": "[encoded data removed]",
      "text/plain": [
       "<Figure size 576x432 with 2 Axes>"
      ]
     },
     "metadata": {
      "needs_background": "light"
     },
     "output_type": "display_data"
    }
   ],
   "source": [
    "from sklearn.metrics import confusion_matrix\n",
    "\n",
    "conf_mat = confusion_matrix(y_test, y_pred)\n",
    "fig, ax = plt.subplots(figsize=(8,6))\n",
    "sns.heatmap(conf_mat, annot=True, fmt='d',\n",
    "            xticklabels=category_id_df.messagetype.values, yticklabels=category_id_df.messagetype.values)\n",
    "plt.ylabel('Actual')\n",
    "plt.xlabel('Predicted')\n",
    "plt.show()"
   ]
  },
  {
   "cell_type": "code",
   "execution_count": null,
   "metadata": {},
   "outputs": [],
   "source": []
  },
  {
   "cell_type": "code",
   "execution_count": 27,
   "metadata": {},
   "outputs": [
    {
     "name": "stdout",
     "output_type": "stream",
     "text": [
      "'Info' predicted as 'Advert' : 11 examples.\n"
     ]
    },
    {
     "data": {
      "text/html": [
       "<div>\n",
       "<table border=\"1\" class=\"dataframe\">\n",
       "  <thead>\n",
       "    <tr style=\"text-align: right;\">\n",
       "      <th></th>\n",
       "      <th>messagetype</th>\n",
       "      <th>message</th>\n",
       "    </tr>\n",
       "  </thead>\n",
       "  <tbody>\n",
       "    <tr>\n",
       "      <th>7040</th>\n",
       "      <td>Info</td>\n",
       "      <td>THANK YOU FOR USING UNITED BANK RUPAY PLATINUM...</td>\n",
       "    </tr>\n",
       "    <tr>\n",
       "      <th>7334</th>\n",
       "      <td>Info</td>\n",
       "      <td>DEAR CUST, PL PAY YOUR VEH LOAN OVERDUE (IF AN...</td>\n",
       "    </tr>\n",
       "    <tr>\n",
       "      <th>6776</th>\n",
       "      <td>Info</td>\n",
       "      <td>AS PER RBI GUIDELINES, YOU CAN DO FREE MONEY T...</td>\n",
       "    </tr>\n",
       "    <tr>\n",
       "      <th>7226</th>\n",
       "      <td>Info</td>\n",
       "      <td>ALERT! RS3 (13 PTS)WILL LAPSE FROM YOUR SBI RE...</td>\n",
       "    </tr>\n",
       "    <tr>\n",
       "      <th>7312</th>\n",
       "      <td>Info</td>\n",
       "      <td>DEAR APPLICANT YOUR HDFC BANK CREDIT CARD APP ...</td>\n",
       "    </tr>\n",
       "    <tr>\n",
       "      <th>7313</th>\n",
       "      <td>Info</td>\n",
       "      <td>DEAR APPLICANT, YOUR ICICI BANK PERSONAL LOAN ...</td>\n",
       "    </tr>\n",
       "    <tr>\n",
       "      <th>6777</th>\n",
       "      <td>Info</td>\n",
       "      <td>AXIS BANK EDGE REWARDS: DEAR CUSTOMER, WE URGE...</td>\n",
       "    </tr>\n",
       "    <tr>\n",
       "      <th>6900</th>\n",
       "      <td>Info</td>\n",
       "      <td>DEAR CUSTOMER, YOU HAVE UTILIZED MORE THAN 75%...</td>\n",
       "    </tr>\n",
       "    <tr>\n",
       "      <th>6809</th>\n",
       "      <td>Info</td>\n",
       "      <td>DEAR CUSTOMER, THANK YOU FOR USING ICICI BANK ...</td>\n",
       "    </tr>\n",
       "    <tr>\n",
       "      <th>6813</th>\n",
       "      <td>Info</td>\n",
       "      <td>DEAR CUSTOMER CASH WITHDRAWAL LIMIT ON YOUR CR...</td>\n",
       "    </tr>\n",
       "    <tr>\n",
       "      <th>7269</th>\n",
       "      <td>Info</td>\n",
       "      <td>CONGRATULATIONS ON BUYING FONESAFE FOR YOUR SM...</td>\n",
       "    </tr>\n",
       "  </tbody>\n",
       "</table>\n",
       "</div>"
      ],
      "text/plain": [
       "     messagetype                                            message\n",
       "7040        Info  THANK YOU FOR USING UNITED BANK RUPAY PLATINUM...\n",
       "7334        Info  DEAR CUST, PL PAY YOUR VEH LOAN OVERDUE (IF AN...\n",
       "6776        Info  AS PER RBI GUIDELINES, YOU CAN DO FREE MONEY T...\n",
       "7226        Info  ALERT! RS3 (13 PTS)WILL LAPSE FROM YOUR SBI RE...\n",
       "7312        Info  DEAR APPLICANT YOUR HDFC BANK CREDIT CARD APP ...\n",
       "7313        Info  DEAR APPLICANT, YOUR ICICI BANK PERSONAL LOAN ...\n",
       "6777        Info  AXIS BANK EDGE REWARDS: DEAR CUSTOMER, WE URGE...\n",
       "6900        Info  DEAR CUSTOMER, YOU HAVE UTILIZED MORE THAN 75%...\n",
       "6809        Info  DEAR CUSTOMER, THANK YOU FOR USING ICICI BANK ...\n",
       "6813        Info  DEAR CUSTOMER CASH WITHDRAWAL LIMIT ON YOUR CR...\n",
       "7269        Info  CONGRATULATIONS ON BUYING FONESAFE FOR YOUR SM..."
      ]
     },
     "metadata": {},
     "output_type": "display_data"
    },
    {
     "name": "stdout",
     "output_type": "stream",
     "text": [
      "\n",
      "'Info' predicted as 'EmiDue_Reminder' : 10 examples.\n"
     ]
    },
    {
     "data": {
      "text/html": [
       "<div>\n",
       "<table border=\"1\" class=\"dataframe\">\n",
       "  <thead>\n",
       "    <tr style=\"text-align: right;\">\n",
       "      <th></th>\n",
       "      <th>messagetype</th>\n",
       "      <th>message</th>\n",
       "    </tr>\n",
       "  </thead>\n",
       "  <tbody>\n",
       "    <tr>\n",
       "      <th>6847</th>\n",
       "      <td>Info</td>\n",
       "      <td>EMI DUE ON14062018 IN A/C XXXXX423788. PLEASE ...</td>\n",
       "    </tr>\n",
       "    <tr>\n",
       "      <th>7333</th>\n",
       "      <td>Info</td>\n",
       "      <td>DEAR CUST, ECS FOR HDFC BANK TWO WHEELER LOAN#...</td>\n",
       "    </tr>\n",
       "    <tr>\n",
       "      <th>6851</th>\n",
       "      <td>Info</td>\n",
       "      <td>EMI DUE ON14082018 IN A/C XXXXX423788. PLEASE ...</td>\n",
       "    </tr>\n",
       "    <tr>\n",
       "      <th>6883</th>\n",
       "      <td>Info</td>\n",
       "      <td>GREETINGS FROM SHUBH LOANS! YOUR EMI IS DUE ON...</td>\n",
       "    </tr>\n",
       "    <tr>\n",
       "      <th>6864</th>\n",
       "      <td>Info</td>\n",
       "      <td>EMI DUE ON31072018 IN A/C XXXXX881940. PLEASE ...</td>\n",
       "    </tr>\n",
       "    <tr>\n",
       "      <th>6861</th>\n",
       "      <td>Info</td>\n",
       "      <td>EMI DUE ON31072018 IN A/C XXXXX115024. PLEASE ...</td>\n",
       "    </tr>\n",
       "    <tr>\n",
       "      <th>6841</th>\n",
       "      <td>Info</td>\n",
       "      <td>EMI DUE ON14042018 IN A/C XXXXX423788. PLEASE ...</td>\n",
       "    </tr>\n",
       "    <tr>\n",
       "      <th>6856</th>\n",
       "      <td>Info</td>\n",
       "      <td>EMI DUE ON20062018 IN A/C XXXXX260761. PLEASE ...</td>\n",
       "    </tr>\n",
       "    <tr>\n",
       "      <th>6853</th>\n",
       "      <td>Info</td>\n",
       "      <td>EMI DUE ON20042018 IN A/C XXXXX260761. PLEASE ...</td>\n",
       "    </tr>\n",
       "    <tr>\n",
       "      <th>6849</th>\n",
       "      <td>Info</td>\n",
       "      <td>EMI DUE ON14072018 IN A/C XXXXX423788. PLEASE ...</td>\n",
       "    </tr>\n",
       "  </tbody>\n",
       "</table>\n",
       "</div>"
      ],
      "text/plain": [
       "     messagetype                                            message\n",
       "6847        Info  EMI DUE ON14062018 IN A/C XXXXX423788. PLEASE ...\n",
       "7333        Info  DEAR CUST, ECS FOR HDFC BANK TWO WHEELER LOAN#...\n",
       "6851        Info  EMI DUE ON14082018 IN A/C XXXXX423788. PLEASE ...\n",
       "6883        Info  GREETINGS FROM SHUBH LOANS! YOUR EMI IS DUE ON...\n",
       "6864        Info  EMI DUE ON31072018 IN A/C XXXXX881940. PLEASE ...\n",
       "6861        Info  EMI DUE ON31072018 IN A/C XXXXX115024. PLEASE ...\n",
       "6841        Info  EMI DUE ON14042018 IN A/C XXXXX423788. PLEASE ...\n",
       "6856        Info  EMI DUE ON20062018 IN A/C XXXXX260761. PLEASE ...\n",
       "6853        Info  EMI DUE ON20042018 IN A/C XXXXX260761. PLEASE ...\n",
       "6849        Info  EMI DUE ON14072018 IN A/C XXXXX423788. PLEASE ..."
      ]
     },
     "metadata": {},
     "output_type": "display_data"
    },
    {
     "name": "stdout",
     "output_type": "stream",
     "text": [
      "\n",
      "'Advert' predicted as 'Info' : 11 examples.\n"
     ]
    },
    {
     "data": {
      "text/html": [
       "<div>\n",
       "<table border=\"1\" class=\"dataframe\">\n",
       "  <thead>\n",
       "    <tr style=\"text-align: right;\">\n",
       "      <th></th>\n",
       "      <th>messagetype</th>\n",
       "      <th>message</th>\n",
       "    </tr>\n",
       "  </thead>\n",
       "  <tbody>\n",
       "    <tr>\n",
       "      <th>5256</th>\n",
       "      <td>Advert</td>\n",
       "      <td>DON'T WANT TO KEEP MINIMUM BALANCE IN YOUR ACC...</td>\n",
       "    </tr>\n",
       "    <tr>\n",
       "      <th>5303</th>\n",
       "      <td>Advert</td>\n",
       "      <td>250 PAPERLESS MUTUAL FUNDS ARE WAITING FOR YOU...</td>\n",
       "    </tr>\n",
       "    <tr>\n",
       "      <th>5541</th>\n",
       "      <td>Advert</td>\n",
       "      <td>DUE TO CHANGE IN BANK'S UPI TRANSACTION APPROV...</td>\n",
       "    </tr>\n",
       "    <tr>\n",
       "      <th>5379</th>\n",
       "      <td>Advert</td>\n",
       "      <td>BEWARE OF CALLS FROM TELECOM OPERATOR, ASKING ...</td>\n",
       "    </tr>\n",
       "    <tr>\n",
       "      <th>5378</th>\n",
       "      <td>Advert</td>\n",
       "      <td>BEWARE OF CALLS FROM TELECOM OPERATOR, ASKING ...</td>\n",
       "    </tr>\n",
       "    <tr>\n",
       "      <th>5428</th>\n",
       "      <td>Advert</td>\n",
       "      <td>DEAR BAJAJ CUSTOMER, YOUR CIBIL SCORE MAY CHAN...</td>\n",
       "    </tr>\n",
       "    <tr>\n",
       "      <th>5248</th>\n",
       "      <td>Advert</td>\n",
       "      <td>CONGRATULATIONS! YOUR IPIN HAS BEEN SUCCESSFUL...</td>\n",
       "    </tr>\n",
       "    <tr>\n",
       "      <th>5315</th>\n",
       "      <td>Advert</td>\n",
       "      <td>ACHIEVE YOUR FREEDOM FROM MEDICAL EXPENSES WIT...</td>\n",
       "    </tr>\n",
       "    <tr>\n",
       "      <th>5475</th>\n",
       "      <td>Advert</td>\n",
       "      <td>DEAR CARDMEMBER, DOWNLOAD RBL MY CARD MOBILE A...</td>\n",
       "    </tr>\n",
       "    <tr>\n",
       "      <th>5523</th>\n",
       "      <td>Advert</td>\n",
       "      <td>DEAR CUSTOMER, THANK YOU FOR YOUR PATRONAGE. F...</td>\n",
       "    </tr>\n",
       "    <tr>\n",
       "      <th>5473</th>\n",
       "      <td>Advert</td>\n",
       "      <td>COMPLETE FULL KYC OF YOUR 811 A/C WITHIN 15 DA...</td>\n",
       "    </tr>\n",
       "  </tbody>\n",
       "</table>\n",
       "</div>"
      ],
      "text/plain": [
       "     messagetype                                            message\n",
       "5256      Advert  DON'T WANT TO KEEP MINIMUM BALANCE IN YOUR ACC...\n",
       "5303      Advert  250 PAPERLESS MUTUAL FUNDS ARE WAITING FOR YOU...\n",
       "5541      Advert  DUE TO CHANGE IN BANK'S UPI TRANSACTION APPROV...\n",
       "5379      Advert  BEWARE OF CALLS FROM TELECOM OPERATOR, ASKING ...\n",
       "5378      Advert  BEWARE OF CALLS FROM TELECOM OPERATOR, ASKING ...\n",
       "5428      Advert  DEAR BAJAJ CUSTOMER, YOUR CIBIL SCORE MAY CHAN...\n",
       "5248      Advert  CONGRATULATIONS! YOUR IPIN HAS BEEN SUCCESSFUL...\n",
       "5315      Advert  ACHIEVE YOUR FREEDOM FROM MEDICAL EXPENSES WIT...\n",
       "5475      Advert  DEAR CARDMEMBER, DOWNLOAD RBL MY CARD MOBILE A...\n",
       "5523      Advert  DEAR CUSTOMER, THANK YOU FOR YOUR PATRONAGE. F...\n",
       "5473      Advert  COMPLETE FULL KYC OF YOUR 811 A/C WITHIN 15 DA..."
      ]
     },
     "metadata": {},
     "output_type": "display_data"
    },
    {
     "name": "stdout",
     "output_type": "stream",
     "text": [
      "\n"
     ]
    }
   ],
   "source": [
    "from IPython.display import display\n",
    "\n",
    "for predicted in category_id_df.category_id:\n",
    "  for actual in category_id_df.category_id:\n",
    "    if predicted != actual and conf_mat[actual, predicted] >= 6:\n",
    "      print(\"'{}' predicted as '{}' : {} examples.\".format(id_to_category[actual], id_to_category[predicted], conf_mat[actual, predicted]))\n",
    "      display(df.loc[indices_test[(y_test == actual) & (y_pred == predicted)]][['messagetype', 'message']])\n",
    "      print('')"
   ]
  },
  {
   "cell_type": "code",
   "execution_count": 28,
   "metadata": {},
   "outputs": [
    {
     "data": {
      "text/plain": [
       "LinearSVC(C=1.0, class_weight=None, dual=True, fit_intercept=True,\n",
       "     intercept_scaling=1, loss='squared_hinge', max_iter=1000,\n",
       "     multi_class='ovr', penalty='l2', random_state=None, tol=0.0001,\n",
       "     verbose=0)"
      ]
     },
     "execution_count": 28,
     "metadata": {},
     "output_type": "execute_result"
    }
   ],
   "source": [
    "model.fit(features, labels)"
   ]
  },
  {
   "cell_type": "code",
   "execution_count": 31,
   "metadata": {},
   "outputs": [
    {
     "name": "stdout",
     "output_type": "stream",
     "text": [
      "# 'Advert':\n",
      "  . Top unigrams:\n",
      "       . apply\n",
      "       . free\n",
      "  . Top bigrams:\n",
      "       . customer avail\n",
      "       . sbi credit\n",
      "# 'Balance':\n",
      "  . Top unigrams:\n",
      "       . balance\n",
      "       . balances\n",
      "  . Top bigrams:\n",
      "       . balance account\n",
      "       . crdownload yono\n",
      "# 'Credit':\n",
      "  . Top unigrams:\n",
      "       . credited\n",
      "       . received\n",
      "  . Top bigrams:\n",
      "       . credited rs\n",
      "       . credited inr\n",
      "# 'Debit':\n",
      "  . Top unigrams:\n",
      "       . debited\n",
      "       . withdrawn\n",
      "  . Top bigrams:\n",
      "       . debited rs\n",
      "       . debited inr\n",
      "# 'Declined_due_to_insufficint_fund':\n",
      "  . Top unigrams:\n",
      "       . insufficient\n",
      "       . funds\n",
      "  . Top bigrams:\n",
      "       . insufficient funds\n",
      "       . insufficient balance\n",
      "# 'Declined_due_to_other':\n",
      "  . Top unigrams:\n",
      "       . declined\n",
      "       . dishonoured\n",
      "  . Top bigrams:\n",
      "       . returned unpaid\n",
      "       . 18 declined\n",
      "# 'EmiDue_Reminder':\n",
      "  . Top unigrams:\n",
      "       . emi\n",
      "       . ur\n",
      "  . Top bigrams:\n",
      "       . emi rs\n",
      "       . customer emi\n",
      "# 'Info':\n",
      "  . Top unigrams:\n",
      "       . added\n",
      "       . changed\n",
      "  . Top bigrams:\n",
      "       . nn88628 debited\n",
      "       . received clearing\n",
      "# 'OTP':\n",
      "  . Top unigrams:\n",
      "       . otp\n",
      "       . share\n",
      "  . Top bigrams:\n",
      "       . time password\n",
      "       . ref id\n",
      "# 'Payment_due':\n",
      "  . Top unigrams:\n",
      "       . total\n",
      "       . min\n",
      "  . Top bigrams:\n",
      "       . total rs\n",
      "       . 00 payment\n"
     ]
    }
   ],
   "source": [
    "from sklearn.feature_selection import chi2\n",
    "\n",
    "N = 2\n",
    "for messagetype, category_id in sorted(category_to_id.items()):\n",
    "  indices = np.argsort(model.coef_[category_id])\n",
    "  feature_names = np.array(tfidf.get_feature_names())[indices]\n",
    "  unigrams = [v for v in reversed(feature_names) if len(v.split(' ')) == 1][:N]\n",
    "  bigrams = [v for v in reversed(feature_names) if len(v.split(' ')) == 2][:N]\n",
    "  print(\"# '{}':\".format(messagetype))\n",
    "  print(\"  . Top unigrams:\\n       . {}\".format('\\n       . '.join(unigrams)))\n",
    "  print(\"  . Top bigrams:\\n       . {}\".format('\\n       . '.join(bigrams)))"
   ]
  },
  {
   "cell_type": "code",
   "execution_count": null,
   "metadata": {},
   "outputs": [],
   "source": []
  }
 ],
 "metadata": {
  "kernelspec": {
   "display_name": "Python 2",
   "language": "python",
   "name": "python2"
  },
  "language_info": {
   "codemirror_mode": {
    "name": "ipython",
    "version": 2
   },
   "file_extension": ".py",
   "mimetype": "text/x-python",
   "name": "python",
   "nbconvert_exporter": "python",
   "pygments_lexer": "ipython2",
   "version": "2.7.15rc1"
  }
 },
 "nbformat": 4,
 "nbformat_minor": 2
}
