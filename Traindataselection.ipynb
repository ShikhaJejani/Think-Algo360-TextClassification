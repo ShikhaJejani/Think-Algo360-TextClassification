{
 "cells": [
  {
   "cell_type": "code",
   "execution_count": 197,
   "metadata": {},
   "outputs": [],
   "source": [
    "from fuzzywuzzy import fuzz \n",
    "from fuzzywuzzy import process \n",
    "import pandas as pd\n",
    "import numpy as np\n",
    "import warnings\n",
    "warnings.filterwarnings('ignore')\n",
    "import sys\n",
    "reload(sys)\n",
    "sys.setdefaultencoding('utf8')"
   ]
  },
  {
   "cell_type": "code",
   "execution_count": 379,
   "metadata": {},
   "outputs": [
    {
     "ename": "CParserError",
     "evalue": "Error tokenizing data. C error: Expected 1 fields in line 655514, saw 2\n",
     "output_type": "error",
     "traceback": [
      "\u001b[1;31m---------------------------------------------------------------------------\u001b[0m",
      "\u001b[1;31mCParserError\u001b[0m                              Traceback (most recent call last)",
      "\u001b[1;32m<ipython-input-379-17da30fa84b2>\u001b[0m in \u001b[0;36m<module>\u001b[1;34m()\u001b[0m\n\u001b[1;32m----> 1\u001b[1;33m \u001b[0mmydata\u001b[0m\u001b[1;33m=\u001b[0m\u001b[0mpd\u001b[0m\u001b[1;33m.\u001b[0m\u001b[0mread_csv\u001b[0m\u001b[1;33m(\u001b[0m\u001b[1;34m'C:\\Algo360\\My python codes\\Training files\\BANK\\messagetype\\Debit\\\\bank_sms_classified_debit.csv'\u001b[0m\u001b[1;33m,\u001b[0m\u001b[0mencoding\u001b[0m\u001b[1;33m=\u001b[0m\u001b[1;34m'latin-1'\u001b[0m\u001b[1;33m,\u001b[0m\u001b[0msep\u001b[0m\u001b[1;33m=\u001b[0m\u001b[1;34m'\\t'\u001b[0m\u001b[1;33m)\u001b[0m\u001b[1;33m\u001b[0m\u001b[0m\n\u001b[0m\u001b[0;32m      2\u001b[0m \u001b[0mmydata\u001b[0m\u001b[1;33m.\u001b[0m\u001b[0mhead\u001b[0m\u001b[1;33m(\u001b[0m\u001b[1;33m)\u001b[0m\u001b[1;33m\u001b[0m\u001b[0m\n",
      "\u001b[1;32mc:\\users\\shikha~1\\desktop\\virtua~1\\algo_b~1\\lib\\site-packages\\pandas\\io\\parsers.pyc\u001b[0m in \u001b[0;36mparser_f\u001b[1;34m(filepath_or_buffer, sep, delimiter, header, names, index_col, usecols, squeeze, prefix, mangle_dupe_cols, dtype, engine, converters, true_values, false_values, skipinitialspace, skiprows, nrows, na_values, keep_default_na, na_filter, verbose, skip_blank_lines, parse_dates, infer_datetime_format, keep_date_col, date_parser, dayfirst, iterator, chunksize, compression, thousands, decimal, lineterminator, quotechar, quoting, escapechar, comment, encoding, dialect, tupleize_cols, error_bad_lines, warn_bad_lines, skipfooter, skip_footer, doublequote, delim_whitespace, as_recarray, compact_ints, use_unsigned, low_memory, buffer_lines, memory_map, float_precision)\u001b[0m\n\u001b[0;32m    644\u001b[0m                     skip_blank_lines=skip_blank_lines)\n\u001b[0;32m    645\u001b[0m \u001b[1;33m\u001b[0m\u001b[0m\n\u001b[1;32m--> 646\u001b[1;33m         \u001b[1;32mreturn\u001b[0m \u001b[0m_read\u001b[0m\u001b[1;33m(\u001b[0m\u001b[0mfilepath_or_buffer\u001b[0m\u001b[1;33m,\u001b[0m \u001b[0mkwds\u001b[0m\u001b[1;33m)\u001b[0m\u001b[1;33m\u001b[0m\u001b[0m\n\u001b[0m\u001b[0;32m    647\u001b[0m \u001b[1;33m\u001b[0m\u001b[0m\n\u001b[0;32m    648\u001b[0m     \u001b[0mparser_f\u001b[0m\u001b[1;33m.\u001b[0m\u001b[0m__name__\u001b[0m \u001b[1;33m=\u001b[0m \u001b[0mname\u001b[0m\u001b[1;33m\u001b[0m\u001b[0m\n",
      "\u001b[1;32mc:\\users\\shikha~1\\desktop\\virtua~1\\algo_b~1\\lib\\site-packages\\pandas\\io\\parsers.pyc\u001b[0m in \u001b[0;36m_read\u001b[1;34m(filepath_or_buffer, kwds)\u001b[0m\n\u001b[0;32m    399\u001b[0m         \u001b[1;32mreturn\u001b[0m \u001b[0mparser\u001b[0m\u001b[1;33m\u001b[0m\u001b[0m\n\u001b[0;32m    400\u001b[0m \u001b[1;33m\u001b[0m\u001b[0m\n\u001b[1;32m--> 401\u001b[1;33m     \u001b[0mdata\u001b[0m \u001b[1;33m=\u001b[0m \u001b[0mparser\u001b[0m\u001b[1;33m.\u001b[0m\u001b[0mread\u001b[0m\u001b[1;33m(\u001b[0m\u001b[1;33m)\u001b[0m\u001b[1;33m\u001b[0m\u001b[0m\n\u001b[0m\u001b[0;32m    402\u001b[0m     \u001b[0mparser\u001b[0m\u001b[1;33m.\u001b[0m\u001b[0mclose\u001b[0m\u001b[1;33m(\u001b[0m\u001b[1;33m)\u001b[0m\u001b[1;33m\u001b[0m\u001b[0m\n\u001b[0;32m    403\u001b[0m     \u001b[1;32mreturn\u001b[0m \u001b[0mdata\u001b[0m\u001b[1;33m\u001b[0m\u001b[0m\n",
      "\u001b[1;32mc:\\users\\shikha~1\\desktop\\virtua~1\\algo_b~1\\lib\\site-packages\\pandas\\io\\parsers.pyc\u001b[0m in \u001b[0;36mread\u001b[1;34m(self, nrows)\u001b[0m\n\u001b[0;32m    937\u001b[0m                 \u001b[1;32mraise\u001b[0m \u001b[0mValueError\u001b[0m\u001b[1;33m(\u001b[0m\u001b[1;34m'skipfooter not supported for iteration'\u001b[0m\u001b[1;33m)\u001b[0m\u001b[1;33m\u001b[0m\u001b[0m\n\u001b[0;32m    938\u001b[0m \u001b[1;33m\u001b[0m\u001b[0m\n\u001b[1;32m--> 939\u001b[1;33m         \u001b[0mret\u001b[0m \u001b[1;33m=\u001b[0m \u001b[0mself\u001b[0m\u001b[1;33m.\u001b[0m\u001b[0m_engine\u001b[0m\u001b[1;33m.\u001b[0m\u001b[0mread\u001b[0m\u001b[1;33m(\u001b[0m\u001b[0mnrows\u001b[0m\u001b[1;33m)\u001b[0m\u001b[1;33m\u001b[0m\u001b[0m\n\u001b[0m\u001b[0;32m    940\u001b[0m \u001b[1;33m\u001b[0m\u001b[0m\n\u001b[0;32m    941\u001b[0m         \u001b[1;32mif\u001b[0m \u001b[0mself\u001b[0m\u001b[1;33m.\u001b[0m\u001b[0moptions\u001b[0m\u001b[1;33m.\u001b[0m\u001b[0mget\u001b[0m\u001b[1;33m(\u001b[0m\u001b[1;34m'as_recarray'\u001b[0m\u001b[1;33m)\u001b[0m\u001b[1;33m:\u001b[0m\u001b[1;33m\u001b[0m\u001b[0m\n",
      "\u001b[1;32mc:\\users\\shikha~1\\desktop\\virtua~1\\algo_b~1\\lib\\site-packages\\pandas\\io\\parsers.pyc\u001b[0m in \u001b[0;36mread\u001b[1;34m(self, nrows)\u001b[0m\n\u001b[0;32m   1506\u001b[0m     \u001b[1;32mdef\u001b[0m \u001b[0mread\u001b[0m\u001b[1;33m(\u001b[0m\u001b[0mself\u001b[0m\u001b[1;33m,\u001b[0m \u001b[0mnrows\u001b[0m\u001b[1;33m=\u001b[0m\u001b[0mNone\u001b[0m\u001b[1;33m)\u001b[0m\u001b[1;33m:\u001b[0m\u001b[1;33m\u001b[0m\u001b[0m\n\u001b[0;32m   1507\u001b[0m         \u001b[1;32mtry\u001b[0m\u001b[1;33m:\u001b[0m\u001b[1;33m\u001b[0m\u001b[0m\n\u001b[1;32m-> 1508\u001b[1;33m             \u001b[0mdata\u001b[0m \u001b[1;33m=\u001b[0m \u001b[0mself\u001b[0m\u001b[1;33m.\u001b[0m\u001b[0m_reader\u001b[0m\u001b[1;33m.\u001b[0m\u001b[0mread\u001b[0m\u001b[1;33m(\u001b[0m\u001b[0mnrows\u001b[0m\u001b[1;33m)\u001b[0m\u001b[1;33m\u001b[0m\u001b[0m\n\u001b[0m\u001b[0;32m   1509\u001b[0m         \u001b[1;32mexcept\u001b[0m \u001b[0mStopIteration\u001b[0m\u001b[1;33m:\u001b[0m\u001b[1;33m\u001b[0m\u001b[0m\n\u001b[0;32m   1510\u001b[0m             \u001b[1;32mif\u001b[0m \u001b[0mself\u001b[0m\u001b[1;33m.\u001b[0m\u001b[0m_first_chunk\u001b[0m\u001b[1;33m:\u001b[0m\u001b[1;33m\u001b[0m\u001b[0m\n",
      "\u001b[1;32mpandas\\parser.pyx\u001b[0m in \u001b[0;36mpandas.parser.TextReader.read (pandas\\parser.c:10415)\u001b[1;34m()\u001b[0m\n",
      "\u001b[1;32mpandas\\parser.pyx\u001b[0m in \u001b[0;36mpandas.parser.TextReader._read_low_memory (pandas\\parser.c:10691)\u001b[1;34m()\u001b[0m\n",
      "\u001b[1;32mpandas\\parser.pyx\u001b[0m in \u001b[0;36mpandas.parser.TextReader._read_rows (pandas\\parser.c:11437)\u001b[1;34m()\u001b[0m\n",
      "\u001b[1;32mpandas\\parser.pyx\u001b[0m in \u001b[0;36mpandas.parser.TextReader._tokenize_rows (pandas\\parser.c:11308)\u001b[1;34m()\u001b[0m\n",
      "\u001b[1;32mpandas\\parser.pyx\u001b[0m in \u001b[0;36mpandas.parser.raise_parser_error (pandas\\parser.c:27037)\u001b[1;34m()\u001b[0m\n",
      "\u001b[1;31mCParserError\u001b[0m: Error tokenizing data. C error: Expected 1 fields in line 655514, saw 2\n"
     ]
    }
   ],
   "source": [
    "mydata=pd.read_csv('C:\\Algo360\\My python codes\\Training files\\BANK\\messagetype\\Debit\\\\bank_sms_classified_debit.csv',encoding='latin-1',sep='\\t')\n",
    "mydata.head()"
   ]
  },
  {
   "cell_type": "code",
   "execution_count": 352,
   "metadata": {},
   "outputs": [
    {
     "data": {
      "text/plain": [
       "message        301653\n",
       "messagetype    301653\n",
       "dtype: int64"
      ]
     },
     "execution_count": 352,
     "metadata": {},
     "output_type": "execute_result"
    }
   ],
   "source": [
    "mydata.count()\n",
    "#print(mydata['domain_name'].value_counts().count())"
   ]
  },
  {
   "cell_type": "code",
   "execution_count": 353,
   "metadata": {},
   "outputs": [
    {
     "data": {
      "text/plain": [
       "Balance    301653\n",
       "Name: messagetype, dtype: int64"
      ]
     },
     "execution_count": 353,
     "metadata": {},
     "output_type": "execute_result"
    }
   ],
   "source": [
    "mydata['messagetype'].value_counts()"
   ]
  },
  {
   "cell_type": "code",
   "execution_count": 354,
   "metadata": {},
   "outputs": [],
   "source": [
    "#Preprocessing of train data\n",
    "#mydata['length']=[len(str(x)) for x in mydata['message']]\n",
    "mydata['messageprocessed'] = mydata['message'].str.replace(r'\\b[\\w\\-.]+?@\\w+?\\.\\w{2,4}\\b',\n",
    "                                 'emailaddr')\n",
    "mydata['messageprocessed'] = mydata['messageprocessed'].str.replace(r'(http[s]?\\S+)|(\\w+\\.[A-Za-z]{2,4}\\S*)',\n",
    "                                  'httpaddr')\n",
    "#mydata['messageprocessed'] = mydata['messageprocessed'].str.replace(r'£|\\$|RS', 'moneysymb')    \n",
    "mydata['messageprocessed'] = mydata['messageprocessed'].str.replace(\n",
    "    r'\\b(\\+\\d{1,2}\\s)?\\d?[\\-(.]?\\d{3}\\)?[\\s.-]?\\d{3}[\\s.-]?\\d{4}\\b',\n",
    "    'phonenumbr')    \n",
    "mydata['messageprocessed'] = mydata['messageprocessed'].str.replace(r'\\d+(\\.\\d+)?', 'numbr')\n",
    "mydata['messageprocessed'] = mydata['messageprocessed'].str.replace(r'[^\\w\\d\\s]', ' ')\n",
    "mydata['messageprocessed'] = mydata['messageprocessed'].str.replace(r'\\s+', ' ')\n",
    "mydata['messageprocessed'] = mydata['messageprocessed'].str.replace(r'^\\s+|\\s+?$', '')\n",
    "mydata['messageprocessed'] = mydata['messageprocessed'].str.lower()\n",
    "#mydata['first'] = mydata.messageprocessed.str.split().str[0]\n",
    "#mydata['first2']= mydata['messageprocessed'].apply(lambda x: \" \".join(x for x in x.split()[:2]))\n",
    "#mydata['last'] = mydata.messageprocessed.str.split().str[-1]\n",
    "#mydata['last2']= mydata['messageprocessed'].apply(lambda x: \" \".join(x for x in x.split()[-2:]))\n",
    "mydata['wordcount'] =mydata['messageprocessed'].apply(lambda x: len(str(x).split(\" \")))\n",
    "#mydata['wordcount1'] = mydata['messageprocessed'].str.split().str.len()\n",
    "mydata = mydata.sort_values(['messageprocessed'], ascending = [True])"
   ]
  },
  {
   "cell_type": "code",
   "execution_count": 355,
   "metadata": {},
   "outputs": [
    {
     "data": {
      "text/plain": [
       "message             301653\n",
       "messagetype         301653\n",
       "messageprocessed    301653\n",
       "wordcount           301653\n",
       "dtype: int64"
      ]
     },
     "execution_count": 355,
     "metadata": {},
     "output_type": "execute_result"
    }
   ],
   "source": [
    "mydata.count()"
   ]
  },
  {
   "cell_type": "code",
   "execution_count": 356,
   "metadata": {},
   "outputs": [
    {
     "data": {
      "text/plain": [
       "message             26282\n",
       "messagetype         26282\n",
       "messageprocessed    26282\n",
       "wordcount           26282\n",
       "dtype: int64"
      ]
     },
     "execution_count": 356,
     "metadata": {},
     "output_type": "execute_result"
    }
   ],
   "source": [
    "mydata = mydata.drop_duplicates('messageprocessed')\n",
    "mydata.count()"
   ]
  },
  {
   "cell_type": "code",
   "execution_count": 15,
   "metadata": {},
   "outputs": [],
   "source": [
    "#df_groupby=mydata.groupby(['last','first','wordcount']).head(1).reset_index(drop=True).sort_values(['first','last','wordcount'], ascending=False)"
   ]
  },
  {
   "cell_type": "code",
   "execution_count": 357,
   "metadata": {},
   "outputs": [],
   "source": [
    "message_list = mydata[\"messageprocessed\"].tolist()\n",
    "prevmessage_list = mydata[\"messageprocessed\"][:-1].tolist()\n",
    "prevmessage_list=['']+prevmessage_list"
   ]
  },
  {
   "cell_type": "code",
   "execution_count": 358,
   "metadata": {},
   "outputs": [
    {
     "data": {
      "text/plain": [
       "(26282, 26282)"
      ]
     },
     "execution_count": 358,
     "metadata": {},
     "output_type": "execute_result"
    }
   ],
   "source": [
    "len(message_list),len(prevmessage_list)"
   ]
  },
  {
   "cell_type": "code",
   "execution_count": 359,
   "metadata": {},
   "outputs": [],
   "source": [
    "se2 = pd.Series(prevmessage_list)\n",
    "mydata['prevmessage']=se2.values"
   ]
  },
  {
   "cell_type": "code",
   "execution_count": 360,
   "metadata": {},
   "outputs": [
    {
     "data": {
      "text/plain": [
       "(u'a c bal is rs numbr numbr cr and avl bal is rs numbr numbr', '')"
      ]
     },
     "execution_count": 360,
     "metadata": {},
     "output_type": "execute_result"
    }
   ],
   "source": [
    "message_list[0],prevmessage_list[0]"
   ]
  },
  {
   "cell_type": "code",
   "execution_count": 361,
   "metadata": {},
   "outputs": [],
   "source": [
    "fuzzratio=[]\n",
    "for i in range(len(message_list)):\n",
    "    fuzzratio.append(fuzz.ratio(message_list[i],prevmessage_list[i]))\n",
    "se = pd.Series(fuzzratio)\n",
    "mydata['fuzzratio']=se.values"
   ]
  },
  {
   "cell_type": "code",
   "execution_count": 362,
   "metadata": {},
   "outputs": [],
   "source": [
    "import difflib\n",
    "\n",
    "seqmatcherratio=[]\n",
    "for i in range(len(message_list)):\n",
    "    seq=difflib.SequenceMatcher(None,message_list[i],prevmessage_list[i])\n",
    "    seqmatcherratio.append(seq.ratio()*100)\n",
    "se1 = pd.Series(seqmatcherratio)\n",
    "mydata['seqmatcherratio']=se1.values"
   ]
  },
  {
   "cell_type": "code",
   "execution_count": 363,
   "metadata": {},
   "outputs": [],
   "source": [
    "#Function to perform Word by word match for each message with the previous message.\n",
    "def wordbywordmatcher(mes1, mes2):\n",
    "\t#print 'Mess 1 : ',mes1\n",
    "\t#print 'Mess 2 : ',mes2\n",
    "\tmes1 = mes1.split()\n",
    "\tmes2 = mes2.split()\n",
    "\tlen1 = len(mes1)\n",
    "\tcurr1 = 0\n",
    "\tlen2 = len(mes2)\n",
    "\tcurr2 = 0\n",
    "\tmatch_count = 0\n",
    "\tnew_match_msg = \"\"\n",
    "\twhile(curr1 < len1 and curr2 < len2):\n",
    "\t\tcurr_word1 = mes1[curr1].strip()\n",
    "\t\tcurr_word2 = mes2[curr2].strip()\n",
    "\t\t#print curr_word1\n",
    "\t\t#print curr_word2\n",
    "\t\t#when there is exact match\n",
    "\t\tif curr_word1 == curr_word2:\n",
    "\t\t\t#print ' Direct Match Found'\n",
    "\t\t\tmatch_count+=1\n",
    "\t\t\tnew_match_msg+=str(\" \"+curr_word1.strip())\n",
    "\t\t\n",
    "\t\t#Handling Cases when there is no exact match\n",
    "\t\telse:\n",
    "\t\t\t#Case when mes1: D A B C and mes2: D H A B C\n",
    "\t\t\tif (curr2+1 < len2) and (curr_word1 == mes2[curr2+1]):\n",
    "\t\t\t\tcurr2+=1\n",
    "\t\t\t\tmatch_count+=1\n",
    "\t\t\t\tnew_match_msg+=str(\" \"+curr_word1.strip())\n",
    "\t\t\t\n",
    "\t\t\t#Case when mes1: D A B C and mes2: D H T A B C\n",
    "\t\t\telif (curr2+2 < len2) and (curr_word1 == mes2[curr2+2]):\n",
    "\t\t\t\tcurr2+=2\n",
    "\t\t\t\tmatch_count+=1\n",
    "\t\t\t\tnew_match_msg+=str(\" \"+curr_word1.strip())\n",
    "\t\t\t\t\n",
    "\t\t\t#Case when mes1: D H A B C and mes2: D A B C\n",
    "\t\t\telif (curr1+1 < len1) and (curr_word2 == mes1[curr1+1]):\n",
    "\t\t\t\tcurr1+=1\n",
    "\t\t\t\tmatch_count+=1\n",
    "\t\t\t\tnew_match_msg+=str(\" \"+curr_word2.strip())\n",
    "\t\t\t\n",
    "\t\t\t#Case when mes1: D H T A B C and mes2: D A B C\n",
    "\t\t\telif (curr1+2 < len1) and (curr_word2 == mes1[curr1+2]):\n",
    "\t\t\t\tcurr1+=2\n",
    "\t\t\t\tmatch_count+=1\n",
    "\t\t\t\tnew_match_msg+=str(\" \"+curr_word2.strip())\n",
    "\t\t\t\n",
    "\t\tcurr1 += 1\n",
    "\t\tcurr2 += 1\n",
    "\t\tpass\n",
    "\t#print match_count, new_match_msg\n",
    "\treturn match_count, new_match_msg\n",
    "\n",
    "#-------------------------------------------------------------------------------------------------------------------------------------------------"
   ]
  },
  {
   "cell_type": "code",
   "execution_count": 364,
   "metadata": {},
   "outputs": [],
   "source": [
    "df_match = mydata[:]\n",
    "\n",
    "leng = len(df_match)\n",
    "msg_list = ['']\n",
    "df_match.index = range(len(df_match))\n",
    "wc_list = [0]\n",
    "\n",
    "df_match['Message_Transformed'] = ''\n",
    "df_match['Word_Match'] = 0\n",
    "df_match.index = range(len(df_match))\n",
    "\n",
    "\n",
    "for idx in range(1,leng,1):\n",
    "\tif idx % 1000 == 0:\n",
    "\t\tprint idx\n",
    "\tlast_message = df_match.at[idx-1,'messageprocessed']\n",
    "\tcurr_message = df_match.at[idx,'messageprocessed']\n",
    "\t\n",
    "\tword_match, message_new = wordbywordmatcher(last_message, curr_message)\n",
    "\tmsg_list.append(message_new)\n",
    "\twc_list.append(word_match)\n",
    "\t\n",
    "df_match['Message_Transformed'] = msg_list\n",
    "df_match['Word_Match'] = wc_list\n",
    "df_match['Perc_Match_with_last_message'] = (df_match['Word_Match']*100)/df_match['wordcount']\n",
    "\t"
   ]
  },
  {
   "cell_type": "code",
   "execution_count": 365,
   "metadata": {},
   "outputs": [
    {
     "data": {
      "text/html": [
       "<div>\n",
       "<table border=\"1\" class=\"dataframe\">\n",
       "  <thead>\n",
       "    <tr style=\"text-align: right;\">\n",
       "      <th></th>\n",
       "      <th>messageprocessed</th>\n",
       "      <th>prevmessage</th>\n",
       "      <th>fuzzratio</th>\n",
       "      <th>seqmatcherratio</th>\n",
       "      <th>Perc_Match_with_last_message</th>\n",
       "    </tr>\n",
       "  </thead>\n",
       "  <tbody>\n",
       "    <tr>\n",
       "      <th>0</th>\n",
       "      <td>a c bal is rs numbr numbr cr and avl bal is rs...</td>\n",
       "      <td></td>\n",
       "      <td>0</td>\n",
       "      <td>0.000000</td>\n",
       "      <td>0.000000</td>\n",
       "    </tr>\n",
       "    <tr>\n",
       "      <th>1</th>\n",
       "      <td>a c ca numbr opng numbr numbr numbr ledbal num...</td>\n",
       "      <td>a c bal is rs numbr numbr cr and avl bal is rs...</td>\n",
       "      <td>57</td>\n",
       "      <td>51.948052</td>\n",
       "      <td>35.294118</td>\n",
       "    </tr>\n",
       "    <tr>\n",
       "      <th>2</th>\n",
       "      <td>a c ca numbr opng numbr numbr numbr ledbal num...</td>\n",
       "      <td>a c ca numbr opng numbr numbr numbr ledbal num...</td>\n",
       "      <td>91</td>\n",
       "      <td>91.099476</td>\n",
       "      <td>94.117647</td>\n",
       "    </tr>\n",
       "    <tr>\n",
       "      <th>3</th>\n",
       "      <td>a c ca numbr opng numbr numbr numbr ledbal num...</td>\n",
       "      <td>a c ca numbr opng numbr numbr numbr ledbal num...</td>\n",
       "      <td>87</td>\n",
       "      <td>86.699507</td>\n",
       "      <td>84.210526</td>\n",
       "    </tr>\n",
       "    <tr>\n",
       "      <th>4</th>\n",
       "      <td>a c ca numbr opng numbr numbr numbr ledbal num...</td>\n",
       "      <td>a c ca numbr opng numbr numbr numbr ledbal num...</td>\n",
       "      <td>92</td>\n",
       "      <td>92.093023</td>\n",
       "      <td>94.736842</td>\n",
       "    </tr>\n",
       "  </tbody>\n",
       "</table>\n",
       "</div>"
      ],
      "text/plain": [
       "                                    messageprocessed  \\\n",
       "0  a c bal is rs numbr numbr cr and avl bal is rs...   \n",
       "1  a c ca numbr opng numbr numbr numbr ledbal num...   \n",
       "2  a c ca numbr opng numbr numbr numbr ledbal num...   \n",
       "3  a c ca numbr opng numbr numbr numbr ledbal num...   \n",
       "4  a c ca numbr opng numbr numbr numbr ledbal num...   \n",
       "\n",
       "                                         prevmessage  fuzzratio  \\\n",
       "0                                                             0   \n",
       "1  a c bal is rs numbr numbr cr and avl bal is rs...         57   \n",
       "2  a c ca numbr opng numbr numbr numbr ledbal num...         91   \n",
       "3  a c ca numbr opng numbr numbr numbr ledbal num...         87   \n",
       "4  a c ca numbr opng numbr numbr numbr ledbal num...         92   \n",
       "\n",
       "   seqmatcherratio  Perc_Match_with_last_message  \n",
       "0         0.000000                      0.000000  \n",
       "1        51.948052                     35.294118  \n",
       "2        91.099476                     94.117647  \n",
       "3        86.699507                     84.210526  \n",
       "4        92.093023                     94.736842  "
      ]
     },
     "execution_count": 365,
     "metadata": {},
     "output_type": "execute_result"
    }
   ],
   "source": [
    "df_match[['messageprocessed','prevmessage','fuzzratio','seqmatcherratio','Perc_Match_with_last_message']].head()"
   ]
  },
  {
   "cell_type": "code",
   "execution_count": 367,
   "metadata": {},
   "outputs": [],
   "source": [
    "df_match.to_csv('C:\\Algo360\\My python codes\\Training files\\BANK\\messagetype\\Balance\\Balancerawdump_Scores.csv', index=False)"
   ]
  },
  {
   "cell_type": "code",
   "execution_count": 368,
   "metadata": {},
   "outputs": [
    {
     "data": {
      "text/plain": [
       "message                         26282\n",
       "messagetype                     26282\n",
       "messageprocessed                26282\n",
       "wordcount                       26282\n",
       "prevmessage                     26282\n",
       "fuzzratio                       26282\n",
       "seqmatcherratio                 26282\n",
       "Message_Transformed             26282\n",
       "Word_Match                      26282\n",
       "Perc_Match_with_last_message    26282\n",
       "dtype: int64"
      ]
     },
     "execution_count": 368,
     "metadata": {},
     "output_type": "execute_result"
    }
   ],
   "source": [
    "df_match.count()"
   ]
  },
  {
   "cell_type": "code",
   "execution_count": 371,
   "metadata": {},
   "outputs": [],
   "source": [
    "df_filtered=df_match[df_match['Perc_Match_with_last_message']<70]\n"
   ]
  },
  {
   "cell_type": "code",
   "execution_count": 373,
   "metadata": {},
   "outputs": [],
   "source": [
    "df_filtered.to_csv('C:\\Algo360\\My python codes\\Training files\\BANK\\messagetype\\Balance\\BalanceFiltered.csv', index=False)"
   ]
  },
  {
   "cell_type": "code",
   "execution_count": 369,
   "metadata": {},
   "outputs": [
    {
     "data": {
      "text/plain": [
       "(message                         1148\n",
       " messagetype                     1148\n",
       " messageprocessed                1148\n",
       " wordcount                       1148\n",
       " prevmessage                     1148\n",
       " fuzzratio                       1148\n",
       " seqmatcherratio                 1148\n",
       " Message_Transformed             1148\n",
       " Word_Match                      1148\n",
       " Perc_Match_with_last_message    1148\n",
       " dtype: int64, message                         2085\n",
       " messagetype                     2085\n",
       " messageprocessed                2085\n",
       " wordcount                       2085\n",
       " prevmessage                     2085\n",
       " fuzzratio                       2085\n",
       " seqmatcherratio                 2085\n",
       " Message_Transformed             2085\n",
       " Word_Match                      2085\n",
       " Perc_Match_with_last_message    2085\n",
       " dtype: int64)"
      ]
     },
     "execution_count": 369,
     "metadata": {},
     "output_type": "execute_result"
    }
   ],
   "source": [
    "df_match[df_match['fuzzratio']<70].count(),df_match[df_match['Perc_Match_with_last_message']<70].count()"
   ]
  },
  {
   "cell_type": "code",
   "execution_count": 345,
   "metadata": {},
   "outputs": [
    {
     "data": {
      "text/plain": [
       "message                         167916\n",
       "messagetype                     167916\n",
       "messageprocessed                167916\n",
       "wordcount                       167916\n",
       "prevmessage                     167916\n",
       "fuzzratio                       167916\n",
       "seqmatcherratio                 167916\n",
       "Message_Transformed             167916\n",
       "Word_Match                      167916\n",
       "Perc_Match_with_last_message    167916\n",
       "dtype: int64"
      ]
     },
     "execution_count": 345,
     "metadata": {},
     "output_type": "execute_result"
    }
   ],
   "source": [
    "df_match[df_match['Perc_Match_with_last_message']>-1].count()"
   ]
  },
  {
   "cell_type": "code",
   "execution_count": 370,
   "metadata": {},
   "outputs": [
    {
     "data": {
      "text/plain": [
       "message                         3277\n",
       "messagetype                     3277\n",
       "messageprocessed                3277\n",
       "wordcount                       3277\n",
       "prevmessage                     3277\n",
       "fuzzratio                       3277\n",
       "seqmatcherratio                 3277\n",
       "Message_Transformed             3277\n",
       "Word_Match                      3277\n",
       "Perc_Match_with_last_message    3277\n",
       "dtype: int64"
      ]
     },
     "execution_count": 370,
     "metadata": {},
     "output_type": "execute_result"
    }
   ],
   "source": [
    "df_match[df_match['seqmatcherratio']<70].count()"
   ]
  }
 ],
 "metadata": {
  "kernelspec": {
   "display_name": "Python 2",
   "language": "python",
   "name": "python2"
  },
  "language_info": {
   "codemirror_mode": {
    "name": "ipython",
    "version": 2
   },
   "file_extension": ".py",
   "mimetype": "text/x-python",
   "name": "python",
   "nbconvert_exporter": "python",
   "pygments_lexer": "ipython2",
   "version": "2.7.15rc1"
  }
 },
 "nbformat": 4,
 "nbformat_minor": 2
}
